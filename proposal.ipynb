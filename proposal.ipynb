{
 "cells": [
  {
   "cell_type": "markdown",
   "metadata": {
    "deletable": true,
    "editable": true
   },
   "source": [
    "# 机器学习纳米学习_猫狗大战"
   ]
  },
  {
   "cell_type": "markdown",
   "metadata": {
    "deletable": true,
    "editable": true
   },
   "source": [
    "## 开题报告\n",
    "Zhang Bin Udacity   \n",
    "2019-1-27"
   ]
  },
  {
   "cell_type": "markdown",
   "metadata": {
    "deletable": true,
    "editable": true
   },
   "source": [
    "### 项目背景\n",
    "猫狗大战是Kaggle上的众多竞赛项目之一，该项目利用已有的数据集，创建一套算法进行学习分析，识别图片中的猫或狗。这是一个计算机视觉问题。   \n",
    "kaggle至今举行过两次猫狗大战的竞赛，在2013年，第一次举行是使用正确率作为评估标准，在2017年，第二次举行是使用log损失函数作为评估标准。在2013年至2017年计算机深度学习发展迅速，先进的深度学习算法在处理此类计算机视觉问题时基本可以达到99%的正确率，无法明显的区别不同算法的优劣，所以引入log损失函数，此函数在评判时不仅要分类正确，还要对结果有较高的可信度，这样就能明显地区分各算法的效果。   \n",
    "竞赛的参赛者需要训练自己的机器学习算法，输入已有的测试集中的图片，输出该图片是狗，还是猫的概率，概率越接近1，表示该图片中是狗的概率越高，概率越接近0，表示该图片中是猫的概率越高。"
   ]
  },
  {
   "cell_type": "markdown",
   "metadata": {
    "deletable": true,
    "editable": true
   },
   "source": [
    "### 问题描述\n",
    "猫狗大战项目要求通过算法模型对给定的图片进行预测，判定图片属于预定义分类中的哪一类,这是一个监督学习二分类问题。在计算机视觉问题中，深度学习中的卷积神经网络最善于解决此类问题。卷积神经网络是特殊的神经网络结构，通过卷积操作可以实现对图像特征的自学习，选取有代表性的视觉特征以最大化图像分类的准确率。"
   ]
  },
  {
   "cell_type": "markdown",
   "metadata": {
    "deletable": true,
    "editable": true
   },
   "source": [
    "### 输入数据\n",
    "此数据集从kaggle上下载。Dogs vs. Cats Redux: Kernels Edition   \n",
    "全部解压后包括：train、test、sample_submission.csv。   \n",
    "train文件夹中包含25000 张猫狗的图片，每张图片的名字为“类型+序号.jpg”，此文件夹为训练集，用这些图片对算法进行训练。     \n",
    "test文件夹中包含12500张猫狗的图片，每张图片的名字为“序号.jpg”，此文件夹为测试集，用这些图片对算法进行测试。   \n",
    "sample_submission.csv文件内需要将算法模型预测的测试集中图片是猫或是狗的百分比和图片序号一一对应填入，并上传至kaggle打分。        \n",
    "训练集中的图像大小不固定，所以需要对图片进行预处理，使图片输入算法之前调整为统一的大小。   \n",
    "使用算法模型识别图是猫还是狗，输出为图片是猫还是狗的概率，概率越接近1，表示该图片中是狗的概率越高，概率越接近0，表示该图片中是猫的概率越高。 训练集中大部分图是正常的，有少部分异常图和低分辨率图，对于训练集来说这些异常数据是要剔除掉的。  \n",
    "输入：一张彩色图片。   \n",
    "输出：狗或猫的概率。   "
   ]
  },
  {
   "cell_type": "markdown",
   "metadata": {
    "deletable": true,
    "editable": true
   },
   "source": [
    "### 解决方案\n",
    "该项目使用卷积神经网络（CNN）的方法解决。卷积神经网络是深度学习技术中的网络结构之一，在计算机视觉领域优势突出，在现今已是公认的视觉识别利器。CNN网络对图片进行多次卷基层和池化层处理，在输出层利用softmax计算给出两个节点的概率，表示图片是不同分类的概率。"
   ]
  },
  {
   "cell_type": "markdown",
   "metadata": {
    "deletable": true,
    "editable": true
   },
   "source": [
    "### 基准模型\n",
    "本项目将采用ResNet,Xception,VGGNet这三个模型。   \n",
    "本项目的最低要求是kaggle Public Leaderboard前10%。   \n",
    "在kaggle上，总共有1314只队伍参加了比赛，前10%为131位之前，131位的得分是0.06127，所以模型预测结果分数要小于0.06127。\n"
   ]
  },
  {
   "cell_type": "markdown",
   "metadata": {
    "deletable": true,
    "editable": true
   },
   "source": [
    "### 评估指标\n",
    "kaggle的评估标准是log损失函数，以下为表达式：   \n",
    "$LogLoss = -\\frac{1}{n}\\sum_{i=1}^n [y_ilog(\\hat{y}_i)+(1-y_i)log(1- \\hat{y}_i)]$\n",
    "\n",
    "其中：   \n",
    "n 是测试集中图片数量。   \n",
    "$\\hat{y}_i$是图片预测为狗的概率。   \n",
    "${y}_i$如果图像是狗，则为1，如果是猫，则为0。   \n",
    "$log()$是自然对数。   \n",
    "对数损失越小，代表模型的性能越好。"
   ]
  },
  {
   "cell_type": "markdown",
   "metadata": {
    "deletable": true,
    "editable": true
   },
   "source": [
    "\n",
    "### 项目设计   \n",
    "\n",
    "#### 1. 数据预处理\n",
    "从kaggle下载所有的数据，包括train和test内的图片和sample_submission.csv文件，存储到data文件夹中；   \n",
    "调整训练集和测试集中的图像大小，使图片在输入算法之前调整为统一的大小。   \n",
    "将训练集进一步划分训练集和验证集，防止过拟合的发生。   \n",
    "\n",
    "#### 2. 模型搭建   \n",
    "模型第一层为ResNet,Xception,VGGNet三个模型，输入为图片，三个输出分别进行全局平均池化，对以上数据以概率为0.5做dropout，再经过全连接层，再对以上数据以概率为0.5做dropout，然后使用Sigmoid激活函数直接输出，优化器为Adam，输出结果为表示图片是狗的概率值。\n",
    "\n",
    "#### 3. 模型评估   \n",
    "使用Logloss对模型进行评估。   \n",
    "\n",
    "#### 4. 可视化   \n",
    "可视化算法训练中的准确率曲线和损失函数曲线。\n"
   ]
  },
  {
   "cell_type": "markdown",
   "metadata": {
    "deletable": true,
    "editable": true
   },
   "source": [
    "### 参考文献\n",
    "[1] 在AWS上配置深度学习主机.https://zhuanlan.zhihu.com/p/25066187   \n",
    "[2] 利用AWS学习深度学习 For Udacity P5.https://zhuanlan.zhihu.com/p/33176260   \n",
    "[3] Keras 中文文档.https://keras.io/zh/   \n",
    "[4] Documentation for individual models.https://keras.io/applications/#documentation-for-individual-models   \n",
    "[5] Dogs vs. Cats: Image Classification with Deep Learning using TensorFlow in Python. https://www.datasciencecentral.com/profiles/blogs/dogs-vs-cats-image-classification-with-deep-learning-using   \n",
    "[6] ImageNet: VGGNet, ResNet, Inception, and Xception with Keras. https://www.pyimagesearch.com/2017/03/20/imagenet-vggnet-resnet-inception-xception-keras/"
   ]
  }
 ],
 "metadata": {
  "anaconda-cloud": {},
  "kernelspec": {
   "display_name": "Python [default]",
   "language": "python",
   "name": "python3"
  },
  "language_info": {
   "codemirror_mode": {
    "name": "ipython",
    "version": 3
   },
   "file_extension": ".py",
   "mimetype": "text/x-python",
   "name": "python",
   "nbconvert_exporter": "python",
   "pygments_lexer": "ipython3",
   "version": "3.5.3"
  }
 },
 "nbformat": 4,
 "nbformat_minor": 2
}
